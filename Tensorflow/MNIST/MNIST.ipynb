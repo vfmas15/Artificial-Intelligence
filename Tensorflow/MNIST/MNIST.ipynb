{
 "cells": [
  {
   "cell_type": "code",
   "execution_count": 1,
   "metadata": {},
   "outputs": [],
   "source": [
    "# ---------- DATASET ----------\n",
    "from keras.datasets import mnist\n",
    "\n",
    "# ---------- NETWORK ----------\n",
    "import tensorflow\n",
    "\n",
    "import sys\n",
    "sys.path.append('..')\n",
    "from utils import ImageAnalyzer"
   ]
  },
  {
   "cell_type": "code",
   "execution_count": 2,
   "metadata": {},
   "outputs": [],
   "source": [
    "(x_train, y_train), (x_test, y_test) = mnist.load_data()"
   ]
  },
  {
   "cell_type": "code",
   "execution_count": 3,
   "metadata": {},
   "outputs": [],
   "source": [
    "y_train = tensorflow.keras.utils.to_categorical(y_train, num_classes=10)"
   ]
  },
  {
   "cell_type": "code",
   "execution_count": 4,
   "metadata": {},
   "outputs": [],
   "source": [
    "mnist_model = ImageAnalyzer(img_width=28,img_height=28,channels=1,n_of_classes=10)"
   ]
  },
  {
   "cell_type": "code",
   "execution_count": 5,
   "metadata": {},
   "outputs": [
    {
     "name": "stdout",
     "output_type": "stream",
     "text": [
      "Model: \"sequential\"\n",
      "_________________________________________________________________\n",
      " Layer (type)                Output Shape              Param #   \n",
      "=================================================================\n",
      " conv2d (Conv2D)             (None, 28, 28, 2)         52        \n",
      "                                                                 \n",
      " conv2d_1 (Conv2D)           (None, 28, 28, 4)         204       \n",
      "                                                                 \n",
      " max_pooling2d (MaxPooling2D  (None, 14, 14, 4)        0         \n",
      " )                                                               \n",
      "                                                                 \n",
      " conv2d_2 (Conv2D)           (None, 14, 14, 8)         808       \n",
      "                                                                 \n",
      " conv2d_3 (Conv2D)           (None, 14, 14, 16)        3216      \n",
      "                                                                 \n",
      " max_pooling2d_1 (MaxPooling  (None, 7, 7, 16)         0         \n",
      " 2D)                                                             \n",
      "                                                                 \n",
      " flatten (Flatten)           (None, 784)               0         \n",
      "                                                                 \n",
      " dense (Dense)               (None, 196)               153860    \n",
      "                                                                 \n",
      " dense_1 (Dense)             (None, 49)                9653      \n",
      "                                                                 \n",
      " dense_2 (Dense)             (None, 12)                600       \n",
      "                                                                 \n",
      " dense_3 (Dense)             (None, 10)                130       \n",
      "                                                                 \n",
      "=================================================================\n",
      "Total params: 168,523\n",
      "Trainable params: 168,523\n",
      "Non-trainable params: 0\n",
      "_________________________________________________________________\n"
     ]
    }
   ],
   "source": [
    "metrics = [tensorflow.keras.metrics.Recall(),\n",
    "            tensorflow.keras.metrics.Precision(),\n",
    "            tensorflow.keras.metrics.AUC(multi_label=True)]\n",
    "mnist_model.compile(loss=tensorflow.keras.losses.CategoricalCrossentropy(), metrics= metrics)\n",
    "mnist_model.summary()"
   ]
  },
  {
   "cell_type": "code",
   "execution_count": 6,
   "metadata": {},
   "outputs": [
    {
     "name": "stdout",
     "output_type": "stream",
     "text": [
      "Epoch 1/5\n",
      "938/938 [==============================] - 67s 69ms/step - loss: 0.5044 - recall: 0.7960 - precision: 0.9504 - auc: 0.9829\n",
      "Epoch 2/5\n",
      "938/938 [==============================] - 67s 72ms/step - loss: 0.0899 - recall: 0.9719 - precision: 0.9776 - auc: 0.9980\n",
      "Epoch 3/5\n",
      "938/938 [==============================] - 68s 72ms/step - loss: 0.0662 - recall: 0.9795 - precision: 0.9830 - auc: 0.9986\n",
      "Epoch 4/5\n",
      "938/938 [==============================] - 70s 74ms/step - loss: 0.0551 - recall: 0.9832 - precision: 0.9861 - auc: 0.9987\n",
      "Epoch 5/5\n",
      "938/938 [==============================] - 70s 75ms/step - loss: 0.0484 - recall: 0.9856 - precision: 0.9878 - auc: 0.9989\n"
     ]
    }
   ],
   "source": [
    "mnist_result = mnist_model.fit(x_train, y_train, batch_size=64, epochs=5, verbose=1)"
   ]
  },
  {
   "cell_type": "code",
   "execution_count": 10,
   "metadata": {},
   "outputs": [
    {
     "data": {
      "image/png": "[encoded data removed]",
      "text/plain": [
       "<Figure size 432x288 with 1 Axes>"
      ]
     },
     "metadata": {},
     "output_type": "display_data"
    }
   ],
   "source": [
    "import matplotlib.pyplot as plt\n",
    "import numpy as np\n",
    "\n",
    "\n",
    "\n",
    "plt.plot(np.arange(0, 5), mnist_result.history[\"loss\"], label=\"loss\")\n",
    "plt.plot(np.arange(0, 5), mnist_result.history[\"recall\"], label=\"recall\")\n",
    "plt.plot(np.arange(0, 5), mnist_result.history[\"precision\"], label=\"precision\")\n",
    "plt.plot(np.arange(0, 5), mnist_result.history[\"auc\"], label=\"auc\")\n",
    "plt.title('MNIST')\n",
    "plt.xlabel(\"Epoch #\")\n",
    "plt.ylabel(\"Loss/Accuracy\")\n",
    "plt.legend()\n",
    "\n",
    "plt.show() "
   ]
  },
  {
   "cell_type": "code",
   "execution_count": null,
   "metadata": {},
   "outputs": [],
   "source": []
  }
 ],
 "metadata": {
  "kernelspec": {
   "display_name": "Python 3",
   "language": "python",
   "name": "python3"
  },
  "language_info": {
   "codemirror_mode": {
    "name": "ipython",
    "version": 3
   },
   "file_extension": ".py",
   "mimetype": "text/x-python",
   "name": "python",
   "nbconvert_exporter": "python",
   "pygments_lexer": "ipython3",
   "version": "3.10.5"
  },
  "orig_nbformat": 4,
  "vscode": {
   "interpreter": {
    "hash": "d1064ca804cc281d7bf24ae43d20b5ce3c6982de21aefaa18b6d3df22293941c"
   }
  }
 },
 "nbformat": 4,
 "nbformat_minor": 2
}
